{
 "cells": [
  {
   "cell_type": "code",
   "execution_count": null,
   "id": "de109d03",
   "metadata": {},
   "outputs": [],
   "source": [
    "import pandapower as pp\n",
    "import pandas as pd\n",
    "import numpy as np\n",
    "\n",
    "import matplotlib.pyplot as plt\n",
    "%matplotlib inline  \n",
    "\n",
    "from pandapower.timeseries import DFData\n",
    "from pandapower.timeseries import OutputWriter\n",
    "from pandapower.timeseries.run_time_series import run_timeseries\n",
    "from pandapower.control import ConstControl"
   ]
  },
  {
   "cell_type": "code",
   "execution_count": null,
   "id": "c96d0fdc",
   "metadata": {},
   "outputs": [],
   "source": [
    "def NetworkBussesLines():\n",
    "\tnet = pp.create_empty_network()\n",
    "\n",
    "\tb0 = pp.create_bus(net, 132, name='bus0', max_vm_pu=1.04, min_vm_pu=1.04)\n",
    "\t# The paper says 33 but it results in a trafo issue\n",
    "\tb1 = pp.create_bus(net, 20, name='bus1', max_vm_pu=1.1, min_vm_pu=0.9)\n",
    "\tb2 = pp.create_bus(net, 20, name='bus2', max_vm_pu=1.1, min_vm_pu=0.9)\n",
    "\tb3 = pp.create_bus(net, 20, name='bus3', max_vm_pu=1.1, min_vm_pu=0.9)\n",
    "\tb4 = pp.create_bus(net, 20, name='bus4', max_vm_pu=1.1, min_vm_pu=0.9)\n",
    "\tb5 = pp.create_bus(net, 20, name='bus5', max_vm_pu=1.1, min_vm_pu=0.9)\n",
    "\n",
    "\tpp.create_ext_grid(net, b0, max_p_mvar=200, max_q_mvar=200)\n",
    "\ttrafo0 = pp.create_transformer(net, b0, b1, name=\"HV-MV transformer\", std_type=\"25 MVA 110/20 kV\")\n",
    "\tpp.create_line(net, b1, b2, 10, \"149-AL1/24-ST1A 110.0\", name='line12')\n",
    "\tpp.create_line(net, b1, b3, 5, \"149-AL1/24-ST1A 110.0\", name='line13')\n",
    "\tpp.create_line(net, b2, b4, 5, \"149-AL1/24-ST1A 110.0\", name='line24')\n",
    "\tpp.create_line(net, b2, b5, 5, \"149-AL1/24-ST1A 110.0\", name='line25')\n",
    "\t\n",
    "\t#Following paper's parameters for the line\n",
    "\t#Still c_nf_per_km (line capacitance in nano Farad per km, permittivity) and max_i_ka (maximum thermal current in kilo Ampere) missing\n",
    "\t# pp.create_line_from_parameters(net, b1, b2, 1, 0.03  , 0.022 , name='line12')\n",
    "\t# pp.create_line_from_parameters(net, b1, b3, 1, 0.0307, 0.0621, name='line13')\n",
    "\t# pp.create_line_from_parameters(net, b2, b4, 1, 0.0303, 0.0611, name='line24')\n",
    "\t# pp.create_line_from_parameters(net, b2, b5, 1, 0.0159, 0.0502, name='line25')\n",
    "\n",
    "\treturn net, b0,b1,b2,b3,b4,b5"
   ]
  },
  {
   "cell_type": "code",
   "execution_count": null,
   "id": "711e3800",
   "metadata": {},
   "outputs": [],
   "source": [
    "#Case 1\n",
    "def ANM_Network_case1():\n",
    "\tnet,b0,b1,b2,b3,b4,b5 = NetworkBussesLines()\n",
    "\n",
    "\t#3rd-bus elements\n",
    "\tpp.create_load(net, b3, p_mw=1, q_mvar=-.2, max_p_mw=10, min_p_mw=0, max_q_mvar=2, min_q_mvar=-2, name='Load0') #, max_q_mvar=2 \n",
    "\tpp.create_sgen(net, b3, p_mw=0, q_mvar=0, max_p_mw=30, min_p_mw=0, max_q_mvar=30, name=\"PV generator\")\n",
    "\n",
    "\t#4th-bus elements\n",
    "\tpp.create_load(net, b4, p_mw=4, q_mvar=-.8, max_p_mw=30, min_p_mw=0, max_q_mvar=6, name='Load1')\n",
    "\tpp.create_sgen(net, b4, p_mw=40, q_mvar=0, max_p_mw=50, min_p_mw=0, max_q_mvar=50, min_q_mvar=-50, name=\"Wind generator\")\n",
    "\n",
    "\t#5th-bus elements\n",
    "\tpp.create_load(net, b5, p_mw=0, q_mvar=0, max_p_mw=30, min_p_mw=0, max_q_mvar=6, name='Load2')\n",
    "\tpp.create_storage(net, b5, p_mw=0, max_e_mwh=0.66, q_mvar=0, max_p_mw=50, min_p_mw=-50, max_q_mvar=50, min_q_mvar=-50, name=\"Battery unit\")\n",
    "\n",
    "\treturn net"
   ]
  },
  {
   "cell_type": "code",
   "execution_count": null,
   "id": "67619edf",
   "metadata": {},
   "outputs": [],
   "source": [
    "#Case 2\n",
    "def ANM_Network_case2():\n",
    "\tnet,b0,b1,b2,b3,b4,b5 = NetworkBussesLines()\n",
    "\n",
    "\t#3rd-bus elements\n",
    "\tpp.create_load(net, b3, p_mw=5, q_mvar=-1, max_p_mw=10, min_p_mw=0, max_q_mvar=2, min_q_mvar=-2)\n",
    "\tpp.create_sgen(net, b3, p_mw=4, q_mvar=0, max_p_mw=30, min_p_mw=0, max_q_mvar=30, min_q_mvar=-30, name=\"PV generator\")\n",
    "\n",
    "\t#4th-bus elements\n",
    "\tpp.create_load(net, b4, p_mw=10, q_mvar=-2, max_p_mw=30, min_p_mw=0, max_q_mvar=6)\n",
    "\tpp.create_sgen(net, b4, p_mw=11, q_mvar=0, max_p_mw=50, min_p_mw=0, max_q_mvar=50, min_q_mvar=-50, name=\"Wind generator\")\n",
    "\n",
    "\t#5th-bus elements\n",
    "\tpp.create_load(net, b5, p_mw=25, q_mvar=-5, max_p_mw=30, min_p_mw=0, max_q_mvar=6)\n",
    "\tpp.create_storage(net, b5, p_mw=0, max_e_mwh=0.66, q_mvar=0, max_p_mw=50, min_p_mw=-50, max_q_mvar=50, min_q_mvar=-50, name=\"Battery unit\")\n",
    "\n",
    "\treturn net"
   ]
  },
  {
   "cell_type": "code",
   "execution_count": null,
   "id": "f19dad27",
   "metadata": {},
   "outputs": [],
   "source": [
    "#Case 3\n",
    "def ANM_Network_case3():\n",
    "\tnet,b0,b1,b2,b3,b4,b5 = NetworkBussesLines()\n",
    "\n",
    "\t#3rd-bus elements\n",
    "\tpp.create_load(net, b3, p_mw=2, q_mvar=-.4, max_p_mw=10, min_p_mw=0, max_q_mvar=2, min_q_mvar=-2) #, min_q_mvar= \n",
    "\tpp.create_sgen(net, b3, p_mw=30, q_mvar=0, max_p_mw=30, min_p_mw=0, max_q_mvar=30, min_q_mvar=-30, name=\"PV generator\")\n",
    "\n",
    "\t#4th-bus elements\n",
    "\tpp.create_load(net, b4, p_mw=20, q_mvar=-4, max_p_mw=30, min_p_mw=0, max_q_mvar=6)\n",
    "\tpp.create_sgen(net, b4, p_mw=40, q_mvar=0, max_p_mw=50, min_p_mw=0, max_q_mvar=50, min_q_mvar=-50, name=\"Wind generator\")\n",
    "\n",
    "\t#5th-bus elements\n",
    "\tpp.create_load(net, b5, p_mw=0, q_mvar=0, max_p_mw=30, min_p_mw=0, max_q_mvar=6)\n",
    "\tpp.create_storage(net, b5, p_mw=0, max_e_mwh=0.75, q_mvar=0, max_p_mw=50, min_p_mw=-50, max_q_mvar=50, min_q_mvar=-50, name=\"Battery unit\")\n",
    "\n",
    "\treturn net"
   ]
  },
  {
   "cell_type": "code",
   "execution_count": null,
   "id": "3f53a55b",
   "metadata": {},
   "outputs": [],
   "source": [
    "def ANM_Network_cust():\n",
    "\tnet,b0,b1,b2,b3,b4,b5 = NetworkBussesLines()\n",
    "\n",
    "\t#3rd-bus elements\n",
    "\t#max p_mw = 15\n",
    "\tpp.create_load(net, b3, p_mw=0, q_mvar=0, \n",
    "\t\t\t\t\t\tmax_p_mw=10, min_p_mw=0, max_q_mvar=2, min_q_mvar=-2) #, min_q_mvar= \n",
    "\t#max p_mw = 30\n",
    "\tpp.create_sgen(net, b3, p_mw=0, q_mvar=0, \n",
    "\t\t\t\t\t\tmax_p_mw=30, min_p_mw=0, max_q_mvar=30, min_q_mvar=-30, name=\"PV generator\")\n",
    "\n",
    "\t#4th-bus elements\n",
    "\tpp.create_load(net, b4, p_mw=0, q_mvar=0, \n",
    "\t\t\t\t\t\tmax_p_mw=30, min_p_mw=0, max_q_mvar=6)\n",
    "\t# p_mw=44\n",
    "\tpp.create_sgen(net, b4, p_mw=0*0, q_mvar=0, \n",
    "\t\t\t\t\t\tmax_p_mw=50, min_p_mw=0, max_q_mvar=50, min_q_mvar=-50, name=\"Wind generator\")\n",
    "\n",
    "\t#5th-bus elements\n",
    "\tpp.create_load(net, b5, p_mw=0, q_mvar=0, \n",
    "\t\t\t\t\t\tmax_p_mw=30, min_p_mw=0, max_q_mvar=6)\n",
    "\tpp.create_storage(net, b5, p_mw=10, max_e_mwh=0.75, q_mvar=0, max_p_mw=50, min_p_mw=-50, max_q_mvar=50, min_q_mvar=-50, name=\"Battery unit\")\n",
    "\n",
    "\treturn net"
   ]
  },
  {
   "cell_type": "code",
   "execution_count": null,
   "id": "bf19bd63",
   "metadata": {},
   "outputs": [],
   "source": [
    "case = 1\n",
    "if(case==1):\n",
    "\tnet = ANM_Network_case1()\n",
    "elif(case==2):\n",
    "\tnet = ANM_Network_case2()\n",
    "elif(case==3):\n",
    "\tnet = ANM_Network_case3()"
   ]
  },
  {
   "cell_type": "code",
   "execution_count": null,
   "id": "8d2639ea",
   "metadata": {},
   "outputs": [],
   "source": [
    "#Check for network issues\n",
    "out = pp.diagnostic(net)"
   ]
  },
  {
   "cell_type": "code",
   "execution_count": null,
   "id": "89c5ec04",
   "metadata": {},
   "outputs": [],
   "source": [
    "#Normal run\n",
    "pp.runpp(net)"
   ]
  },
  {
   "cell_type": "code",
   "execution_count": null,
   "id": "5e958226",
   "metadata": {},
   "outputs": [],
   "source": [
    "#Multi tests\n",
    "# for i in range(0,16,1):\n",
    "# \tnet = ANM_Network_cust(i)\n",
    "# \tpp.runpp(net)\n",
    "# \tprint(f'Val: {i}')\n",
    "# \tfig = pf_res_plotly(net)"
   ]
  },
  {
   "cell_type": "markdown",
   "id": "ea212e66",
   "metadata": {},
   "source": [
    "Time series run"
   ]
  },
  {
   "cell_type": "code",
   "execution_count": null,
   "id": "9b937f72",
   "metadata": {},
   "outputs": [],
   "source": [
    "#Generate Data\n",
    "output_dir = './time_series_example'\n",
    "n_timesteps = 24 * 365\n",
    "\n",
    "profile = pd.DataFrame()\n",
    "loads_names = ['load0_p', 'load1_p', 'load2_p']\n",
    "profile[loads_names[0]] = np.random.random(n_timesteps) * np.random.random(n_timesteps) * 12\n",
    "profile[loads_names[1]] = np.random.random(n_timesteps) * np.random.random(n_timesteps) * np.random.random(n_timesteps) * 10\n",
    "profile[loads_names[2]] = np.random.normal(2,0.5) * np.random.normal(6,4.5)\n",
    "profile_load = profile\n",
    "ds = DFData(profile)\n",
    "ConstControl(net, 'load', 'p_mw', element_index=net.load.index, profile_name=profile.columns, data_source=ds)\n",
    "\n",
    "profile = pd.DataFrame()\n",
    "generators_names = ['PV gen_p', 'Wind gen_p']\n",
    "profile[generators_names[0]] = np.random.random(n_timesteps) * np.random.random(n_timesteps)**3 * 3\n",
    "profile[generators_names[1]] = np.random.random(n_timesteps) * 12\n",
    "profile_sgen = profile\n",
    "ds = DFData(profile)\n",
    "ConstControl(net, 'sgen', 'p_mw', element_index=net.sgen.index, profile_name=profile.columns, data_source=ds)\n",
    "\n",
    "#Test the max and min values\n",
    "#Max\n",
    "max_value = 16\n",
    "max_loads = profile_load.max()\n",
    "max_sgens = profile_sgen.max()\n",
    "for ml in max_loads:\n",
    "\tif ml>max_value:\n",
    "\t\tprint(f\"Possible overflow, load too large (val>{max_value})\")\n",
    "\t\tprint(max_loads)\n",
    "for ms in max_sgens:\n",
    "\tif ms>max_value:\n",
    "\t\tprint(f\"Possible overflow, gen too large (val>{max_value})\")\n",
    "\t\tprint(max_sgens)\n",
    "#Min\n",
    "min_loads = profile_load.min()\n",
    "min_sgens = profile_sgen.min()\n",
    "for ml in min_loads:\n",
    "\tif ml<0:\n",
    "\t\tprint(\"Negative load. It should be positive\")\n",
    "\t\tprint(min_loads)\n",
    "for ms in max_sgens:\n",
    "\tif ms<0:\n",
    "\t\tprint(\"Negative gen. It should be positive\")\n",
    "\t\tprint(min_sgens)\n"
   ]
  },
  {
   "cell_type": "code",
   "execution_count": null,
   "id": "4c978c8c",
   "metadata": {},
   "outputs": [],
   "source": [
    "time_steps = range(0,n_timesteps)\n",
    "\n",
    "ow = OutputWriter(net, time_steps, output_path=output_dir, output_file_type=\".xlsx\", log_variables=list())\n",
    "# these variables are saved to the harddisk after / during the time series loop\n",
    "ow.log_variable('res_load', 'p_mw')\n",
    "ow.log_variable('res_bus', 'vm_pu')\n",
    "ow.log_variable('res_line', 'loading_percent')\n",
    "ow.log_variable('res_line', 'i_ka')\n",
    "\n",
    "run_timeseries(net,time_steps)\n",
    "\n",
    "\n",
    "path = os.path.join(output_dir, \"loads_p.xlsx\")\n",
    "profile_load.to_excel(path)\n",
    "path = os.path.join(output_dir, \"sgen_p.xlsx\")\n",
    "profile_sgen.to_excel(path)"
   ]
  },
  {
   "cell_type": "code",
   "execution_count": null,
   "id": "3b79f880",
   "metadata": {
    "scrolled": false
   },
   "outputs": [],
   "source": [
    "#Plot network and loadings\n",
    "from pandapower.plotting.plotly import simple_plotly\n",
    "from pandapower.plotting.plotly import vlevel_plotly\n",
    "from pandapower.plotting.plotly import pf_res_plotly\n",
    "\n",
    "# _ = simple_plotly(net)\n",
    "# _ = vlevel_plotly(net)\n",
    "fig = pf_res_plotly(net)\n",
    "fig.write_html(f\"images/fig_case{case}.html\")"
   ]
  },
  {
   "cell_type": "code",
   "execution_count": null,
   "id": "9ef0c836",
   "metadata": {},
   "outputs": [],
   "source": [
    "#Plot time series\n",
    "import os\n",
    "\n",
    "# voltage results\n",
    "vm_pu_file = os.path.join(output_dir, \"res_bus\", \"vm_pu.xlsx\")\n",
    "vm_pu = pd.read_excel(vm_pu_file, index_col=0)\n",
    "vm_pu.iloc[:,1:].plot(label=\"vm_pu\")\n",
    "plt.xlabel(\"time step\")\n",
    "plt.ylabel(\"voltage mag. [p.u.]\")\n",
    "plt.title(\"Voltage Magnitude (busses)\")\n",
    "plt.grid()\n",
    "plt.show()\n",
    "\n",
    "# line loading results\n",
    "ll_file = os.path.join(output_dir, \"res_line\", \"loading_percent.xlsx\")\n",
    "line_loading = pd.read_excel(ll_file, index_col=0)\n",
    "line_loading.plot(label=\"line_loading\")\n",
    "plt.xlabel(\"time step\")\n",
    "plt.ylabel(\"line loading [%]\")\n",
    "plt.title(\"Line Loading\")\n",
    "plt.grid()\n",
    "plt.show()\n",
    "\n",
    "# load results\n",
    "load_file = os.path.join(output_dir, \"res_load\", \"p_mw.xlsx\")\n",
    "load = pd.read_excel(load_file, index_col=0)\n",
    "load.plot(label=\"load\")\n",
    "plt.xlabel(\"time step\")\n",
    "plt.ylabel(\"P [MW]\")\n",
    "plt.title(\"Load Loading\")\n",
    "plt.grid()\n",
    "plt.show()"
   ]
  },
  {
   "cell_type": "code",
   "execution_count": null,
   "id": "bbd0e2d7",
   "metadata": {},
   "outputs": [],
   "source": [
    "#Generate timeseries Dataset\n",
    "output_dir = './time_series_example'\n",
    "load_p_file = os.path.join(output_dir, \"loads_p.xlsx\")\n",
    "load_p = pd.read_excel(load_p_file, index_col=0)\n",
    "sgen_p_file = os.path.join(output_dir, \"sgen_p.xlsx\")\n",
    "sgen_p_loading = pd.read_excel(sgen_p_file, index_col=0)\n",
    "x = pd.concat([load_p, sgen_p_loading], axis=1)\n",
    "\n",
    "ll_file = os.path.join(output_dir, \"res_line\", \"loading_percent.xlsx\")\n",
    "y = pd.read_excel(ll_file, index_col=0)\n",
    "\n",
    "vm_pu_file = os.path.join(output_dir, \"res_bus\", \"vm_pu.xlsx\")\n",
    "y = pd.read_excel(vm_pu_file, index_col=0)\n",
    "# y = y.iloc[:,1:]"
   ]
  },
  {
   "cell_type": "code",
   "execution_count": null,
   "id": "b7f0e780",
   "metadata": {},
   "outputs": [],
   "source": [
    "from sklearn.model_selection import train_test_split\n",
    "\n",
    "X_train, X_test, y_train, y_test = train_test_split(x,y,train_size=.8)"
   ]
  },
  {
   "cell_type": "code",
   "execution_count": null,
   "id": "8f032393",
   "metadata": {},
   "outputs": [],
   "source": [
    "from sklearn.preprocessing import StandardScaler\n",
    "scaler = StandardScaler()\n",
    "X_train = scaler.fit_transform(X_train)\n",
    "X_test = scaler.transform(X_test)\n",
    "\n",
    "scaler = StandardScaler()\n",
    "y_train = np.array(scaler.fit_transform(y_train))\n",
    "y_test = np.array(y_test)"
   ]
  },
  {
   "cell_type": "code",
   "execution_count": null,
   "id": "97716680",
   "metadata": {},
   "outputs": [],
   "source": [
    "from sklearn.neural_network import MLPRegressor\n",
    "\n",
    "ann = MLPRegressor(verbose=1)\n",
    "ann.fit(X_train,y_train)\n",
    "\n",
    "y_prediction = ann.predict(X_test)\n",
    "y_prediction = scaler.inverse_transform(y_prediction)"
   ]
  },
  {
   "cell_type": "code",
   "execution_count": null,
   "id": "67123c8f",
   "metadata": {},
   "outputs": [],
   "source": [
    "start = 140\n",
    "end = start * 3\n",
    "col = 1\n",
    "fig = plt.figure(figsize=(20,10))\n",
    "plt.plot(y_test[start:end,col], alpha=0.5, linestyle='--', label='correct values')\n",
    "plt.plot(y_prediction[start:end,col], alpha=0.5, linestyle='-', label='predicted values')\n",
    "plt.legend()\n",
    "plt.show()\n"
   ]
  },
  {
   "cell_type": "code",
   "execution_count": null,
   "id": "38a4dc91",
   "metadata": {},
   "outputs": [],
   "source": [
    "\n",
    "from sklearn.metrics import r2_score\n",
    "for i in range(0,y_test.shape[-1]):\n",
    "\tr2_score_val = r2_score(y_test[:,i], y_prediction[:,i])\n",
    "\tprint(f'{i}, The R2 score is: {r2_score_val:.3f}')# ({(r2_score*100):.1f}%)"
   ]
  },
  {
   "cell_type": "code",
   "execution_count": null,
   "id": "061aaad5",
   "metadata": {},
   "outputs": [],
   "source": []
  }
 ],
 "metadata": {
  "kernelspec": {
   "display_name": "Python 3 (ipykernel)",
   "language": "python",
   "name": "python3"
  },
  "language_info": {
   "codemirror_mode": {
    "name": "ipython",
    "version": 3
   },
   "file_extension": ".py",
   "mimetype": "text/x-python",
   "name": "python",
   "nbconvert_exporter": "python",
   "pygments_lexer": "ipython3",
   "version": "3.7.11"
  }
 },
 "nbformat": 4,
 "nbformat_minor": 5
}
