{
 "cells": [
  {
   "cell_type": "code",
   "execution_count": 13,
   "id": "c49803b9",
   "metadata": {},
   "outputs": [],
   "source": [
    "import numpy as np\n",
    "import pandas as pd\n",
    "import plotly.express as px\n",
    "import matplotlib.pyplot as plt"
   ]
  },
  {
   "cell_type": "code",
   "execution_count": 3,
   "id": "24044cca",
   "metadata": {},
   "outputs": [],
   "source": [
    "data = pd.read_csv('TimeSeries/climatechanges.csv')"
   ]
  },
  {
   "cell_type": "code",
   "execution_count": 94,
   "id": "8859db28",
   "metadata": {},
   "outputs": [
    {
     "data": {
      "application/vnd.plotly.v1+json": {
       "config": {
        "plotlyServerURL": "https://plot.ly"
       },
       "data": [
        {
         "hovertemplate": "variable=No_Smoothing<br>Year=%{x}<br>value=%{y}<extra></extra>",
         "legendgroup": "No_Smoothing",
         "line": {
          "color": "#D55E00",
          "dash": "solid"
         },
         "marker": {
          "size": 4,
          "symbol": "circle"
         },
         "mode": "lines+markers",
         "name": "No_Smoothing",
         "orientation": "v",
         "showlegend": true,
         "type": "scatter",
         "x": [
          1880,
          1881,
          1882,
          1883,
          1884,
          1885,
          1886,
          1887,
          1888,
          1889,
          1890,
          1891,
          1892,
          1893,
          1894,
          1895,
          1896,
          1897,
          1898,
          1899,
          1900,
          1901,
          1902,
          1903,
          1904,
          1905,
          1906,
          1907,
          1908,
          1909,
          1910,
          1911,
          1912,
          1913,
          1914,
          1915,
          1916,
          1917,
          1918,
          1919,
          1920,
          1921,
          1922,
          1923,
          1924,
          1925,
          1926,
          1927,
          1928,
          1929,
          1930,
          1931,
          1932,
          1933,
          1934,
          1935,
          1936,
          1937,
          1938,
          1939,
          1940,
          1941,
          1942,
          1943,
          1944,
          1945,
          1946,
          1947,
          1948,
          1949,
          1950,
          1951,
          1952,
          1953,
          1954,
          1955,
          1956,
          1957,
          1958,
          1959,
          1960,
          1961,
          1962,
          1963,
          1964,
          1965,
          1966,
          1967,
          1968,
          1969,
          1970,
          1971,
          1972,
          1973,
          1974,
          1975,
          1976,
          1977,
          1978,
          1979,
          1980,
          1981,
          1982,
          1983,
          1984,
          1985,
          1986,
          1987,
          1988,
          1989,
          1990,
          1991,
          1992,
          1993,
          1994,
          1995,
          1996,
          1997,
          1998,
          1999,
          2000,
          2001,
          2002,
          2003,
          2004,
          2005,
          2006,
          2007,
          2008,
          2009,
          2010,
          2011,
          2012,
          2013,
          2014,
          2015,
          2016,
          2017,
          2018,
          2019,
          2020,
          2021
         ],
         "xaxis": "x",
         "y": [
          -0.15,
          -0.07,
          -0.1,
          -0.17,
          -0.28,
          -0.33,
          -0.31,
          -0.36,
          -0.17,
          -0.1,
          -0.34,
          -0.22,
          -0.27,
          -0.31,
          -0.3,
          -0.22,
          -0.11,
          -0.11,
          -0.27,
          -0.17,
          -0.08,
          -0.16,
          -0.28,
          -0.37,
          -0.47,
          -0.26,
          -0.22,
          -0.38,
          -0.42,
          -0.48,
          -0.43,
          -0.44,
          -0.36,
          -0.34,
          -0.15,
          -0.14,
          -0.36,
          -0.46,
          -0.3,
          -0.28,
          -0.27,
          -0.19,
          -0.29,
          -0.27,
          -0.27,
          -0.22,
          -0.11,
          -0.22,
          -0.2,
          -0.36,
          -0.16,
          -0.09,
          -0.16,
          -0.29,
          -0.12,
          -0.2,
          -0.15,
          -0.03,
          0,
          -0.01,
          0.13,
          0.19,
          0.07,
          0.09,
          0.2,
          0.09,
          -0.07,
          -0.03,
          -0.11,
          -0.11,
          -0.18,
          -0.07,
          0.01,
          0.08,
          -0.13,
          -0.14,
          -0.19,
          0.05,
          0.06,
          0.03,
          -0.03,
          0.06,
          0.03,
          0.05,
          -0.2,
          -0.11,
          -0.06,
          -0.02,
          -0.08,
          0.05,
          0.02,
          -0.08,
          0.01,
          0.16,
          -0.07,
          -0.01,
          -0.1,
          0.18,
          0.07,
          0.17,
          0.26,
          0.32,
          0.14,
          0.31,
          0.16,
          0.12,
          0.18,
          0.32,
          0.39,
          0.27,
          0.45,
          0.41,
          0.22,
          0.23,
          0.32,
          0.45,
          0.33,
          0.46,
          0.61,
          0.38,
          0.39,
          0.54,
          0.63,
          0.62,
          0.53,
          0.68,
          0.64,
          0.66,
          0.54,
          0.66,
          0.72,
          0.61,
          0.65,
          0.68,
          0.75,
          0.9,
          1.02,
          0.92,
          0.85,
          0.98,
          1.02,
          0.85
         ],
         "yaxis": "y"
        },
        {
         "hovertemplate": "variable=Lowess(5)<br>Year=%{x}<br>value=%{y}<extra></extra>",
         "legendgroup": "Lowess(5)",
         "line": {
          "color": "#0072B2",
          "dash": "solid"
         },
         "marker": {
          "size": 4,
          "symbol": "circle"
         },
         "mode": "lines",
         "name": "Lowess(5)",
         "orientation": "v",
         "showlegend": true,
         "type": "scatter",
         "x": [
          1880,
          1881,
          1882,
          1883,
          1884,
          1885,
          1886,
          1887,
          1888,
          1889,
          1890,
          1891,
          1892,
          1893,
          1894,
          1895,
          1896,
          1897,
          1898,
          1899,
          1900,
          1901,
          1902,
          1903,
          1904,
          1905,
          1906,
          1907,
          1908,
          1909,
          1910,
          1911,
          1912,
          1913,
          1914,
          1915,
          1916,
          1917,
          1918,
          1919,
          1920,
          1921,
          1922,
          1923,
          1924,
          1925,
          1926,
          1927,
          1928,
          1929,
          1930,
          1931,
          1932,
          1933,
          1934,
          1935,
          1936,
          1937,
          1938,
          1939,
          1940,
          1941,
          1942,
          1943,
          1944,
          1945,
          1946,
          1947,
          1948,
          1949,
          1950,
          1951,
          1952,
          1953,
          1954,
          1955,
          1956,
          1957,
          1958,
          1959,
          1960,
          1961,
          1962,
          1963,
          1964,
          1965,
          1966,
          1967,
          1968,
          1969,
          1970,
          1971,
          1972,
          1973,
          1974,
          1975,
          1976,
          1977,
          1978,
          1979,
          1980,
          1981,
          1982,
          1983,
          1984,
          1985,
          1986,
          1987,
          1988,
          1989,
          1990,
          1991,
          1992,
          1993,
          1994,
          1995,
          1996,
          1997,
          1998,
          1999,
          2000,
          2001,
          2002,
          2003,
          2004,
          2005,
          2006,
          2007,
          2008,
          2009,
          2010,
          2011,
          2012,
          2013,
          2014,
          2015,
          2016,
          2017,
          2018,
          2019,
          2020,
          2021
         ],
         "xaxis": "x",
         "y": [
          -0.08,
          -0.12,
          -0.16,
          -0.2,
          -0.23,
          -0.26,
          -0.27,
          -0.27,
          -0.26,
          -0.25,
          -0.25,
          -0.25,
          -0.26,
          -0.25,
          -0.23,
          -0.22,
          -0.2,
          -0.18,
          -0.16,
          -0.17,
          -0.2,
          -0.23,
          -0.26,
          -0.28,
          -0.31,
          -0.34,
          -0.36,
          -0.37,
          -0.39,
          -0.4,
          -0.41,
          -0.39,
          -0.35,
          -0.32,
          -0.31,
          -0.3,
          -0.3,
          -0.3,
          -0.3,
          -0.3,
          -0.28,
          -0.27,
          -0.26,
          -0.24,
          -0.23,
          -0.22,
          -0.22,
          -0.21,
          -0.2,
          -0.19,
          -0.19,
          -0.19,
          -0.18,
          -0.17,
          -0.16,
          -0.14,
          -0.11,
          -0.06,
          -0.01,
          0.03,
          0.07,
          0.09,
          0.11,
          0.1,
          0.07,
          0.04,
          0,
          -0.04,
          -0.07,
          -0.08,
          -0.08,
          -0.07,
          -0.07,
          -0.07,
          -0.07,
          -0.06,
          -0.05,
          -0.04,
          -0.01,
          0.01,
          0.03,
          0.01,
          -0.01,
          -0.03,
          -0.04,
          -0.05,
          -0.06,
          -0.05,
          -0.03,
          -0.02,
          -0.01,
          0,
          0,
          0,
          0.01,
          0.02,
          0.04,
          0.08,
          0.12,
          0.17,
          0.2,
          0.21,
          0.22,
          0.21,
          0.21,
          0.22,
          0.24,
          0.27,
          0.31,
          0.33,
          0.33,
          0.33,
          0.33,
          0.33,
          0.34,
          0.37,
          0.4,
          0.42,
          0.44,
          0.47,
          0.5,
          0.52,
          0.55,
          0.58,
          0.61,
          0.62,
          0.62,
          0.63,
          0.64,
          0.64,
          0.65,
          0.67,
          0.7,
          0.74,
          0.79,
          0.83,
          0.88,
          0.91,
          0.92,
          0.93,
          0.94,
          0.94
         ],
         "yaxis": "y"
        }
       ],
       "layout": {
        "legend": {
         "bordercolor": "black",
         "borderwidth": 1.5,
         "font": {
          "color": "black"
         },
         "title": {
          "text": ""
         },
         "tracegroupgap": 0,
         "x": 0.01,
         "xanchor": "left",
         "y": 0.99,
         "yanchor": "top"
        },
        "margin": {
         "t": 60
        },
        "plot_bgcolor": "rgb(255,255,255)",
        "template": {
         "data": {
          "bar": [
           {
            "error_x": {
             "color": "#2a3f5f"
            },
            "error_y": {
             "color": "#2a3f5f"
            },
            "marker": {
             "line": {
              "color": "#E5ECF6",
              "width": 0.5
             },
             "pattern": {
              "fillmode": "overlay",
              "size": 10,
              "solidity": 0.2
             }
            },
            "type": "bar"
           }
          ],
          "barpolar": [
           {
            "marker": {
             "line": {
              "color": "#E5ECF6",
              "width": 0.5
             },
             "pattern": {
              "fillmode": "overlay",
              "size": 10,
              "solidity": 0.2
             }
            },
            "type": "barpolar"
           }
          ],
          "carpet": [
           {
            "aaxis": {
             "endlinecolor": "#2a3f5f",
             "gridcolor": "white",
             "linecolor": "white",
             "minorgridcolor": "white",
             "startlinecolor": "#2a3f5f"
            },
            "baxis": {
             "endlinecolor": "#2a3f5f",
             "gridcolor": "white",
             "linecolor": "white",
             "minorgridcolor": "white",
             "startlinecolor": "#2a3f5f"
            },
            "type": "carpet"
           }
          ],
          "choropleth": [
           {
            "colorbar": {
             "outlinewidth": 0,
             "ticks": ""
            },
            "type": "choropleth"
           }
          ],
          "contour": [
           {
            "colorbar": {
             "outlinewidth": 0,
             "ticks": ""
            },
            "colorscale": [
             [
              0,
              "#0d0887"
             ],
             [
              0.1111111111111111,
              "#46039f"
             ],
             [
              0.2222222222222222,
              "#7201a8"
             ],
             [
              0.3333333333333333,
              "#9c179e"
             ],
             [
              0.4444444444444444,
              "#bd3786"
             ],
             [
              0.5555555555555556,
              "#d8576b"
             ],
             [
              0.6666666666666666,
              "#ed7953"
             ],
             [
              0.7777777777777778,
              "#fb9f3a"
             ],
             [
              0.8888888888888888,
              "#fdca26"
             ],
             [
              1,
              "#f0f921"
             ]
            ],
            "type": "contour"
           }
          ],
          "contourcarpet": [
           {
            "colorbar": {
             "outlinewidth": 0,
             "ticks": ""
            },
            "type": "contourcarpet"
           }
          ],
          "heatmap": [
           {
            "colorbar": {
             "outlinewidth": 0,
             "ticks": ""
            },
            "colorscale": [
             [
              0,
              "#0d0887"
             ],
             [
              0.1111111111111111,
              "#46039f"
             ],
             [
              0.2222222222222222,
              "#7201a8"
             ],
             [
              0.3333333333333333,
              "#9c179e"
             ],
             [
              0.4444444444444444,
              "#bd3786"
             ],
             [
              0.5555555555555556,
              "#d8576b"
             ],
             [
              0.6666666666666666,
              "#ed7953"
             ],
             [
              0.7777777777777778,
              "#fb9f3a"
             ],
             [
              0.8888888888888888,
              "#fdca26"
             ],
             [
              1,
              "#f0f921"
             ]
            ],
            "type": "heatmap"
           }
          ],
          "heatmapgl": [
           {
            "colorbar": {
             "outlinewidth": 0,
             "ticks": ""
            },
            "colorscale": [
             [
              0,
              "#0d0887"
             ],
             [
              0.1111111111111111,
              "#46039f"
             ],
             [
              0.2222222222222222,
              "#7201a8"
             ],
             [
              0.3333333333333333,
              "#9c179e"
             ],
             [
              0.4444444444444444,
              "#bd3786"
             ],
             [
              0.5555555555555556,
              "#d8576b"
             ],
             [
              0.6666666666666666,
              "#ed7953"
             ],
             [
              0.7777777777777778,
              "#fb9f3a"
             ],
             [
              0.8888888888888888,
              "#fdca26"
             ],
             [
              1,
              "#f0f921"
             ]
            ],
            "type": "heatmapgl"
           }
          ],
          "histogram": [
           {
            "marker": {
             "pattern": {
              "fillmode": "overlay",
              "size": 10,
              "solidity": 0.2
             }
            },
            "type": "histogram"
           }
          ],
          "histogram2d": [
           {
            "colorbar": {
             "outlinewidth": 0,
             "ticks": ""
            },
            "colorscale": [
             [
              0,
              "#0d0887"
             ],
             [
              0.1111111111111111,
              "#46039f"
             ],
             [
              0.2222222222222222,
              "#7201a8"
             ],
             [
              0.3333333333333333,
              "#9c179e"
             ],
             [
              0.4444444444444444,
              "#bd3786"
             ],
             [
              0.5555555555555556,
              "#d8576b"
             ],
             [
              0.6666666666666666,
              "#ed7953"
             ],
             [
              0.7777777777777778,
              "#fb9f3a"
             ],
             [
              0.8888888888888888,
              "#fdca26"
             ],
             [
              1,
              "#f0f921"
             ]
            ],
            "type": "histogram2d"
           }
          ],
          "histogram2dcontour": [
           {
            "colorbar": {
             "outlinewidth": 0,
             "ticks": ""
            },
            "colorscale": [
             [
              0,
              "#0d0887"
             ],
             [
              0.1111111111111111,
              "#46039f"
             ],
             [
              0.2222222222222222,
              "#7201a8"
             ],
             [
              0.3333333333333333,
              "#9c179e"
             ],
             [
              0.4444444444444444,
              "#bd3786"
             ],
             [
              0.5555555555555556,
              "#d8576b"
             ],
             [
              0.6666666666666666,
              "#ed7953"
             ],
             [
              0.7777777777777778,
              "#fb9f3a"
             ],
             [
              0.8888888888888888,
              "#fdca26"
             ],
             [
              1,
              "#f0f921"
             ]
            ],
            "type": "histogram2dcontour"
           }
          ],
          "mesh3d": [
           {
            "colorbar": {
             "outlinewidth": 0,
             "ticks": ""
            },
            "type": "mesh3d"
           }
          ],
          "parcoords": [
           {
            "line": {
             "colorbar": {
              "outlinewidth": 0,
              "ticks": ""
             }
            },
            "type": "parcoords"
           }
          ],
          "pie": [
           {
            "automargin": true,
            "type": "pie"
           }
          ],
          "scatter": [
           {
            "marker": {
             "colorbar": {
              "outlinewidth": 0,
              "ticks": ""
             }
            },
            "type": "scatter"
           }
          ],
          "scatter3d": [
           {
            "line": {
             "colorbar": {
              "outlinewidth": 0,
              "ticks": ""
             }
            },
            "marker": {
             "colorbar": {
              "outlinewidth": 0,
              "ticks": ""
             }
            },
            "type": "scatter3d"
           }
          ],
          "scattercarpet": [
           {
            "marker": {
             "colorbar": {
              "outlinewidth": 0,
              "ticks": ""
             }
            },
            "type": "scattercarpet"
           }
          ],
          "scattergeo": [
           {
            "marker": {
             "colorbar": {
              "outlinewidth": 0,
              "ticks": ""
             }
            },
            "type": "scattergeo"
           }
          ],
          "scattergl": [
           {
            "marker": {
             "colorbar": {
              "outlinewidth": 0,
              "ticks": ""
             }
            },
            "type": "scattergl"
           }
          ],
          "scattermapbox": [
           {
            "marker": {
             "colorbar": {
              "outlinewidth": 0,
              "ticks": ""
             }
            },
            "type": "scattermapbox"
           }
          ],
          "scatterpolar": [
           {
            "marker": {
             "colorbar": {
              "outlinewidth": 0,
              "ticks": ""
             }
            },
            "type": "scatterpolar"
           }
          ],
          "scatterpolargl": [
           {
            "marker": {
             "colorbar": {
              "outlinewidth": 0,
              "ticks": ""
             }
            },
            "type": "scatterpolargl"
           }
          ],
          "scatterternary": [
           {
            "marker": {
             "colorbar": {
              "outlinewidth": 0,
              "ticks": ""
             }
            },
            "type": "scatterternary"
           }
          ],
          "surface": [
           {
            "colorbar": {
             "outlinewidth": 0,
             "ticks": ""
            },
            "colorscale": [
             [
              0,
              "#0d0887"
             ],
             [
              0.1111111111111111,
              "#46039f"
             ],
             [
              0.2222222222222222,
              "#7201a8"
             ],
             [
              0.3333333333333333,
              "#9c179e"
             ],
             [
              0.4444444444444444,
              "#bd3786"
             ],
             [
              0.5555555555555556,
              "#d8576b"
             ],
             [
              0.6666666666666666,
              "#ed7953"
             ],
             [
              0.7777777777777778,
              "#fb9f3a"
             ],
             [
              0.8888888888888888,
              "#fdca26"
             ],
             [
              1,
              "#f0f921"
             ]
            ],
            "type": "surface"
           }
          ],
          "table": [
           {
            "cells": {
             "fill": {
              "color": "#EBF0F8"
             },
             "line": {
              "color": "white"
             }
            },
            "header": {
             "fill": {
              "color": "#C8D4E3"
             },
             "line": {
              "color": "white"
             }
            },
            "type": "table"
           }
          ]
         },
         "layout": {
          "annotationdefaults": {
           "arrowcolor": "#2a3f5f",
           "arrowhead": 0,
           "arrowwidth": 1
          },
          "autotypenumbers": "strict",
          "coloraxis": {
           "colorbar": {
            "outlinewidth": 0,
            "ticks": ""
           }
          },
          "colorscale": {
           "diverging": [
            [
             0,
             "#8e0152"
            ],
            [
             0.1,
             "#c51b7d"
            ],
            [
             0.2,
             "#de77ae"
            ],
            [
             0.3,
             "#f1b6da"
            ],
            [
             0.4,
             "#fde0ef"
            ],
            [
             0.5,
             "#f7f7f7"
            ],
            [
             0.6,
             "#e6f5d0"
            ],
            [
             0.7,
             "#b8e186"
            ],
            [
             0.8,
             "#7fbc41"
            ],
            [
             0.9,
             "#4d9221"
            ],
            [
             1,
             "#276419"
            ]
           ],
           "sequential": [
            [
             0,
             "#0d0887"
            ],
            [
             0.1111111111111111,
             "#46039f"
            ],
            [
             0.2222222222222222,
             "#7201a8"
            ],
            [
             0.3333333333333333,
             "#9c179e"
            ],
            [
             0.4444444444444444,
             "#bd3786"
            ],
            [
             0.5555555555555556,
             "#d8576b"
            ],
            [
             0.6666666666666666,
             "#ed7953"
            ],
            [
             0.7777777777777778,
             "#fb9f3a"
            ],
            [
             0.8888888888888888,
             "#fdca26"
            ],
            [
             1,
             "#f0f921"
            ]
           ],
           "sequentialminus": [
            [
             0,
             "#0d0887"
            ],
            [
             0.1111111111111111,
             "#46039f"
            ],
            [
             0.2222222222222222,
             "#7201a8"
            ],
            [
             0.3333333333333333,
             "#9c179e"
            ],
            [
             0.4444444444444444,
             "#bd3786"
            ],
            [
             0.5555555555555556,
             "#d8576b"
            ],
            [
             0.6666666666666666,
             "#ed7953"
            ],
            [
             0.7777777777777778,
             "#fb9f3a"
            ],
            [
             0.8888888888888888,
             "#fdca26"
            ],
            [
             1,
             "#f0f921"
            ]
           ]
          },
          "colorway": [
           "#636efa",
           "#EF553B",
           "#00cc96",
           "#ab63fa",
           "#FFA15A",
           "#19d3f3",
           "#FF6692",
           "#B6E880",
           "#FF97FF",
           "#FECB52"
          ],
          "font": {
           "color": "#2a3f5f"
          },
          "geo": {
           "bgcolor": "white",
           "lakecolor": "white",
           "landcolor": "#E5ECF6",
           "showlakes": true,
           "showland": true,
           "subunitcolor": "white"
          },
          "hoverlabel": {
           "align": "left"
          },
          "hovermode": "closest",
          "mapbox": {
           "style": "light"
          },
          "paper_bgcolor": "white",
          "plot_bgcolor": "#E5ECF6",
          "polar": {
           "angularaxis": {
            "gridcolor": "white",
            "linecolor": "white",
            "ticks": ""
           },
           "bgcolor": "#E5ECF6",
           "radialaxis": {
            "gridcolor": "white",
            "linecolor": "white",
            "ticks": ""
           }
          },
          "scene": {
           "xaxis": {
            "backgroundcolor": "#E5ECF6",
            "gridcolor": "white",
            "gridwidth": 2,
            "linecolor": "white",
            "showbackground": true,
            "ticks": "",
            "zerolinecolor": "white"
           },
           "yaxis": {
            "backgroundcolor": "#E5ECF6",
            "gridcolor": "white",
            "gridwidth": 2,
            "linecolor": "white",
            "showbackground": true,
            "ticks": "",
            "zerolinecolor": "white"
           },
           "zaxis": {
            "backgroundcolor": "#E5ECF6",
            "gridcolor": "white",
            "gridwidth": 2,
            "linecolor": "white",
            "showbackground": true,
            "ticks": "",
            "zerolinecolor": "white"
           }
          },
          "shapedefaults": {
           "line": {
            "color": "#2a3f5f"
           }
          },
          "ternary": {
           "aaxis": {
            "gridcolor": "white",
            "linecolor": "white",
            "ticks": ""
           },
           "baxis": {
            "gridcolor": "white",
            "linecolor": "white",
            "ticks": ""
           },
           "bgcolor": "#E5ECF6",
           "caxis": {
            "gridcolor": "white",
            "linecolor": "white",
            "ticks": ""
           }
          },
          "title": {
           "x": 0.05
          },
          "xaxis": {
           "automargin": true,
           "gridcolor": "white",
           "linecolor": "white",
           "ticks": "",
           "title": {
            "standoff": 15
           },
           "zerolinecolor": "white",
           "zerolinewidth": 2
          },
          "yaxis": {
           "automargin": true,
           "gridcolor": "white",
           "linecolor": "white",
           "ticks": "",
           "title": {
            "standoff": 15
           },
           "zerolinecolor": "white",
           "zerolinewidth": 2
          }
         }
        },
        "title": {
         "text": "GLOBAL LAND-OCEAN TEMPERATURE INDEX"
        },
        "xaxis": {
         "anchor": "y",
         "domain": [
          0,
          1
         ],
         "gridcolor": "rgb(102,102,102)",
         "gridwidth": 1,
         "linecolor": "black",
         "linewidth": 2,
         "mirror": true,
         "showgrid": true,
         "showline": true,
         "title": {
          "text": "Year"
         },
         "zeroline": true,
         "zerolinecolor": "rgb(102,102,102)",
         "zerolinewidth": 1
        },
        "yaxis": {
         "anchor": "x",
         "domain": [
          0,
          1
         ],
         "gridcolor": "rgb(102,102,102)",
         "gridwidth": 1,
         "linecolor": "black",
         "linewidth": 2,
         "mirror": true,
         "showgrid": true,
         "showline": true,
         "title": {
          "text": "Temperature Anomaly (C)"
         },
         "zeroline": true,
         "zerolinecolor": "rgb(102,102,102)",
         "zerolinewidth": 1
        }
       }
      }
     },
     "metadata": {},
     "output_type": "display_data"
    }
   ],
   "source": [
    "# palette: http://www.cookbook-r.com/Graphs/Colors_(ggplot2)/#a-colorblind-friendly-palette\n",
    "fig = px.line(data,x='Year', y=['No_Smoothing'], markers=True, color_discrete_sequence=['#D55E00'])\n",
    "fig.add_trace(px.line(data,x='Year', y=['Lowess(5)'], color_discrete_sequence=['#0072B2']).data[0])\n",
    "fig.update_layout(title='GLOBAL LAND-OCEAN TEMPERATURE INDEX', plot_bgcolor='rgb(255,255,255)',\n",
    "\tlegend=dict(\n",
    "\tyanchor=\"top\",\n",
    "\ty=0.99,\n",
    "\txanchor=\"left\",\n",
    "\tx=0.01,\n",
    "\tbordercolor='black',\n",
    "\tborderwidth=1.5), legend_title_text='', legend_font=dict(color='black'))\n",
    "fig.update_traces(marker=dict(size=4))\n",
    "\n",
    "color_grid = 'rgb(102,102,102)'\n",
    "fig.update_yaxes(title='Temperature Anomaly (C)',showline=True, linewidth=2, linecolor='black', mirror=True,showgrid=True, gridwidth=1, gridcolor=color_grid, zeroline=True, zerolinewidth=1, zerolinecolor=color_grid)\n",
    "fig.update_xaxes(title='Year',showline=True, linewidth=2, linecolor='black', mirror=True,showgrid=True, gridwidth=1, gridcolor=color_grid, zeroline=True, zerolinewidth=1, zerolinecolor=color_grid)\n",
    "fig.show()"
   ]
  },
  {
   "cell_type": "code",
   "execution_count": 47,
   "id": "4057a79d",
   "metadata": {},
   "outputs": [
    {
     "name": "stdout",
     "output_type": "stream",
     "text": [
      "Figure({\n",
      "    'data': [{'hovertemplate': 'variable=No_Smoothing<br>Year=%{x}<br>value=%{y}<extra></extra>',\n",
      "              'legendgroup': 'No_Smoothing',\n",
      "              'line': {'color': '#636efa', 'dash': 'solid'},\n",
      "              'marker': {'size': 4, 'symbol': 'circle'},\n",
      "              'mode': 'lines+markers',\n",
      "              'name': 'No_Smoothing',\n",
      "              'orientation': 'v',\n",
      "              'showlegend': True,\n",
      "              'type': 'scatter',\n",
      "              'x': array([1880, 1881, 1882, 1883, 1884, 1885, 1886, 1887, 1888, 1889, 1890, 1891,\n",
      "                          1892, 1893, 1894, 1895, 1896, 1897, 1898, 1899, 1900, 1901, 1902, 1903,\n",
      "                          1904, 1905, 1906, 1907, 1908, 1909, 1910, 1911, 1912, 1913, 1914, 1915,\n",
      "                          1916, 1917, 1918, 1919, 1920, 1921, 1922, 1923, 1924, 1925, 1926, 1927,\n",
      "                          1928, 1929, 1930, 1931, 1932, 1933, 1934, 1935, 1936, 1937, 1938, 1939,\n",
      "                          1940, 1941, 1942, 1943, 1944, 1945, 1946, 1947, 1948, 1949, 1950, 1951,\n",
      "                          1952, 1953, 1954, 1955, 1956, 1957, 1958, 1959, 1960, 1961, 1962, 1963,\n",
      "                          1964, 1965, 1966, 1967, 1968, 1969, 1970, 1971, 1972, 1973, 1974, 1975,\n",
      "                          1976, 1977, 1978, 1979, 1980, 1981, 1982, 1983, 1984, 1985, 1986, 1987,\n",
      "                          1988, 1989, 1990, 1991, 1992, 1993, 1994, 1995, 1996, 1997, 1998, 1999,\n",
      "                          2000, 2001, 2002, 2003, 2004, 2005, 2006, 2007, 2008, 2009, 2010, 2011,\n",
      "                          2012, 2013, 2014, 2015, 2016, 2017, 2018, 2019, 2020, 2021], dtype=int64),\n",
      "              'xaxis': 'x',\n",
      "              'y': array([-0.15, -0.07, -0.1 , -0.17, -0.28, -0.33, -0.31, -0.36, -0.17, -0.1 ,\n",
      "                          -0.34, -0.22, -0.27, -0.31, -0.3 , -0.22, -0.11, -0.11, -0.27, -0.17,\n",
      "                          -0.08, -0.16, -0.28, -0.37, -0.47, -0.26, -0.22, -0.38, -0.42, -0.48,\n",
      "                          -0.43, -0.44, -0.36, -0.34, -0.15, -0.14, -0.36, -0.46, -0.3 , -0.28,\n",
      "                          -0.27, -0.19, -0.29, -0.27, -0.27, -0.22, -0.11, -0.22, -0.2 , -0.36,\n",
      "                          -0.16, -0.09, -0.16, -0.29, -0.12, -0.2 , -0.15, -0.03,  0.  , -0.01,\n",
      "                           0.13,  0.19,  0.07,  0.09,  0.2 ,  0.09, -0.07, -0.03, -0.11, -0.11,\n",
      "                          -0.18, -0.07,  0.01,  0.08, -0.13, -0.14, -0.19,  0.05,  0.06,  0.03,\n",
      "                          -0.03,  0.06,  0.03,  0.05, -0.2 , -0.11, -0.06, -0.02, -0.08,  0.05,\n",
      "                           0.02, -0.08,  0.01,  0.16, -0.07, -0.01, -0.1 ,  0.18,  0.07,  0.17,\n",
      "                           0.26,  0.32,  0.14,  0.31,  0.16,  0.12,  0.18,  0.32,  0.39,  0.27,\n",
      "                           0.45,  0.41,  0.22,  0.23,  0.32,  0.45,  0.33,  0.46,  0.61,  0.38,\n",
      "                           0.39,  0.54,  0.63,  0.62,  0.53,  0.68,  0.64,  0.66,  0.54,  0.66,\n",
      "                           0.72,  0.61,  0.65,  0.68,  0.75,  0.9 ,  1.02,  0.92,  0.85,  0.98,\n",
      "                           1.02,  0.85]),\n",
      "              'yaxis': 'y'},\n",
      "             {'hovertemplate': 'variable=Lowess(5)<br>Year=%{x}<br>value=%{y}<extra></extra>',\n",
      "              'legendgroup': 'Lowess(5)',\n",
      "              'line': {'color': 'red', 'dash': 'solid'},\n",
      "              'marker': {'size': 4, 'symbol': 'circle'},\n",
      "              'mode': 'lines',\n",
      "              'name': 'Lowess(5)',\n",
      "              'orientation': 'v',\n",
      "              'showlegend': True,\n",
      "              'type': 'scatter',\n",
      "              'x': array([1880, 1881, 1882, 1883, 1884, 1885, 1886, 1887, 1888, 1889, 1890, 1891,\n",
      "                          1892, 1893, 1894, 1895, 1896, 1897, 1898, 1899, 1900, 1901, 1902, 1903,\n",
      "                          1904, 1905, 1906, 1907, 1908, 1909, 1910, 1911, 1912, 1913, 1914, 1915,\n",
      "                          1916, 1917, 1918, 1919, 1920, 1921, 1922, 1923, 1924, 1925, 1926, 1927,\n",
      "                          1928, 1929, 1930, 1931, 1932, 1933, 1934, 1935, 1936, 1937, 1938, 1939,\n",
      "                          1940, 1941, 1942, 1943, 1944, 1945, 1946, 1947, 1948, 1949, 1950, 1951,\n",
      "                          1952, 1953, 1954, 1955, 1956, 1957, 1958, 1959, 1960, 1961, 1962, 1963,\n",
      "                          1964, 1965, 1966, 1967, 1968, 1969, 1970, 1971, 1972, 1973, 1974, 1975,\n",
      "                          1976, 1977, 1978, 1979, 1980, 1981, 1982, 1983, 1984, 1985, 1986, 1987,\n",
      "                          1988, 1989, 1990, 1991, 1992, 1993, 1994, 1995, 1996, 1997, 1998, 1999,\n",
      "                          2000, 2001, 2002, 2003, 2004, 2005, 2006, 2007, 2008, 2009, 2010, 2011,\n",
      "                          2012, 2013, 2014, 2015, 2016, 2017, 2018, 2019, 2020, 2021], dtype=int64),\n",
      "              'xaxis': 'x',\n",
      "              'y': array([-0.08, -0.12, -0.16, -0.2 , -0.23, -0.26, -0.27, -0.27, -0.26, -0.25,\n",
      "                          -0.25, -0.25, -0.26, -0.25, -0.23, -0.22, -0.2 , -0.18, -0.16, -0.17,\n",
      "                          -0.2 , -0.23, -0.26, -0.28, -0.31, -0.34, -0.36, -0.37, -0.39, -0.4 ,\n",
      "                          -0.41, -0.39, -0.35, -0.32, -0.31, -0.3 , -0.3 , -0.3 , -0.3 , -0.3 ,\n",
      "                          -0.28, -0.27, -0.26, -0.24, -0.23, -0.22, -0.22, -0.21, -0.2 , -0.19,\n",
      "                          -0.19, -0.19, -0.18, -0.17, -0.16, -0.14, -0.11, -0.06, -0.01,  0.03,\n",
      "                           0.07,  0.09,  0.11,  0.1 ,  0.07,  0.04,  0.  , -0.04, -0.07, -0.08,\n",
      "                          -0.08, -0.07, -0.07, -0.07, -0.07, -0.06, -0.05, -0.04, -0.01,  0.01,\n",
      "                           0.03,  0.01, -0.01, -0.03, -0.04, -0.05, -0.06, -0.05, -0.03, -0.02,\n",
      "                          -0.01,  0.  ,  0.  , -0.  ,  0.01,  0.02,  0.04,  0.08,  0.12,  0.17,\n",
      "                           0.2 ,  0.21,  0.22,  0.21,  0.21,  0.22,  0.24,  0.27,  0.31,  0.33,\n",
      "                           0.33,  0.33,  0.33,  0.33,  0.34,  0.37,  0.4 ,  0.42,  0.44,  0.47,\n",
      "                           0.5 ,  0.52,  0.55,  0.58,  0.61,  0.62,  0.62,  0.63,  0.64,  0.64,\n",
      "                           0.65,  0.67,  0.7 ,  0.74,  0.79,  0.83,  0.88,  0.91,  0.92,  0.93,\n",
      "                           0.94,  0.94]),\n",
      "              'yaxis': 'y'}],\n",
      "    'layout': {'legend': {'title': {'text': 'variable'}, 'tracegroupgap': 0},\n",
      "               'margin': {'t': 60},\n",
      "               'template': '...',\n",
      "               'title': {'text': 'GLOBAL LAND-OCEAN TEMPERATURE INDEX'},\n",
      "               'xaxis': {'anchor': 'y', 'domain': [0.0, 1.0], 'title': {'text': 'Year'}},\n",
      "               'yaxis': {'anchor': 'x', 'domain': [0.0, 1.0], 'title': {'text': 'Temperature Anomaly (C)'}}}\n",
      "})\n"
     ]
    }
   ],
   "source": [
    "print(fig)"
   ]
  },
  {
   "cell_type": "code",
   "execution_count": null,
   "id": "1a6459fe",
   "metadata": {},
   "outputs": [],
   "source": []
  },
  {
   "cell_type": "code",
   "execution_count": null,
   "id": "95f2f287",
   "metadata": {},
   "outputs": [],
   "source": []
  }
 ],
 "metadata": {
  "kernelspec": {
   "display_name": "Python 3 (ipykernel)",
   "language": "python",
   "name": "python3"
  },
  "language_info": {
   "codemirror_mode": {
    "name": "ipython",
    "version": 3
   },
   "file_extension": ".py",
   "mimetype": "text/x-python",
   "name": "python",
   "nbconvert_exporter": "python",
   "pygments_lexer": "ipython3",
   "version": "3.7.11"
  }
 },
 "nbformat": 4,
 "nbformat_minor": 5
}
