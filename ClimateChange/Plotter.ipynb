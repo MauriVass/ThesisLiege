{
 "cells": [
  {
   "cell_type": "code",
   "execution_count": null,
   "id": "c49803b9",
   "metadata": {},
   "outputs": [],
   "source": [
    "import numpy as np\n",
    "import pandas as pd\n",
    "import plotly.express as px\n",
    "import matplotlib.pyplot as plt"
   ]
  },
  {
   "cell_type": "code",
   "execution_count": null,
   "id": "24044cca",
   "metadata": {},
   "outputs": [],
   "source": [
    "data = pd.read_csv('climatechanges.csv')"
   ]
  },
  {
   "cell_type": "code",
   "execution_count": null,
   "id": "8859db28",
   "metadata": {},
   "outputs": [],
   "source": [
    "# palette: http://www.cookbook-r.com/Graphs/Colors_(ggplot2)/#a-colorblind-friendly-palette\n",
    "fig = px.line(data,x='Year', y=['No_Smoothing'], markers=True, color_discrete_sequence=['#D55E00'])\n",
    "fig.add_trace(px.line(data,x='Year', y=['Lowess(5)'], color_discrete_sequence=['#0072B2']).data[0])\n",
    "fig.update_layout(title='GLOBAL LAND-OCEAN TEMPERATURE INDEX', plot_bgcolor='rgb(255,255,255)',\n",
    "\tlegend=dict(\n",
    "\tyanchor=\"top\",\n",
    "\ty=0.99,\n",
    "\txanchor=\"left\",\n",
    "\tx=0.01,\n",
    "\tbordercolor='black',\n",
    "\tborderwidth=1.5), legend_title_text='', legend_font=dict(color='black'))\n",
    "fig.update_traces(marker=dict(size=4))\n",
    "\n",
    "color_grid = 'rgb(102,102,102)'\n",
    "fig.update_yaxes(title='Temperature Anomaly (C)',showline=True, linewidth=2, linecolor='black', mirror=True,showgrid=True, gridwidth=1, gridcolor=color_grid, zeroline=True, zerolinewidth=1, zerolinecolor=color_grid)\n",
    "fig.update_xaxes(title='Year',showline=True, linewidth=2, linecolor='black', mirror=True,showgrid=True, gridwidth=1, gridcolor=color_grid, zeroline=True, zerolinewidth=1, zerolinecolor=color_grid)\n",
    "fig.show()"
   ]
  },
  {
   "cell_type": "code",
   "execution_count": null,
   "id": "1a6459fe",
   "metadata": {},
   "outputs": [],
   "source": [
    "data = pd.read_csv('annual-co2-emissions-per-country.csv')"
   ]
  },
  {
   "cell_type": "code",
   "execution_count": null,
   "id": "95f2f287",
   "metadata": {},
   "outputs": [],
   "source": [
    "data_for_year = data.groupby('Year', as_index=False).sum()\n",
    "# data_for_year = data_for_year.iloc[90:]"
   ]
  },
  {
   "cell_type": "code",
   "execution_count": null,
   "id": "11303dce",
   "metadata": {},
   "outputs": [],
   "source": [
    "fig = px.line(data_for_year, x='Year', y=['Annual CO2 emissions'], markers=True, color_discrete_sequence=['#D55E00'])\n",
    "# fig.add_trace(px.line(data,x='Year', y=['Lowess(5)'], color_discrete_sequence=['#0072B2']).data[0])\n",
    "fig.update_layout(title='Annual CO2 emissions', plot_bgcolor='rgb(255,255,255)', showlegend=False)\n",
    "fig.update_traces(marker=dict(size=5),line=dict(width=2))\n",
    "\n",
    "color_grid = 'rgb(102,102,102)'\n",
    "fig.update_yaxes(title='',showline=True, linewidth=2, linecolor='black', mirror=True,showgrid=True, gridwidth=1, gridcolor=color_grid, zeroline=True, zerolinewidth=1, zerolinecolor=color_grid)\n",
    "fig.update_xaxes(title='Year',showline=True, linewidth=2, linecolor='black', mirror=True,showgrid=False, gridwidth=1, gridcolor=color_grid, zeroline=True, zerolinewidth=1, zerolinecolor=color_grid)\n",
    "fig.show()"
   ]
  }
 ],
 "metadata": {
  "kernelspec": {
   "display_name": "Python 3 (ipykernel)",
   "language": "python",
   "name": "python3"
  },
  "language_info": {
   "codemirror_mode": {
    "name": "ipython",
    "version": 3
   },
   "file_extension": ".py",
   "mimetype": "text/x-python",
   "name": "python",
   "nbconvert_exporter": "python",
   "pygments_lexer": "ipython3",
   "version": "3.7.11"
  }
 },
 "nbformat": 4,
 "nbformat_minor": 5
}
