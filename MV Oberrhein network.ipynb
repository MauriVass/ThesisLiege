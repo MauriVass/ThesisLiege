{
 "cells": [
  {
   "cell_type": "code",
   "execution_count": null,
   "metadata": {},
   "outputs": [],
   "source": [
    "import pandapower as pp\n",
    "import pandapower.networks\n",
    "import pandas as pd\n",
    "import plotly.express as px\n",
    "import numpy as np\n",
    "import tensorflow as tf\n",
    "import os\n",
    "import time\n",
    "\n",
    "import matplotlib.pyplot as plt\n",
    "%matplotlib inline\n",
    "from pandapower.plotting.plotly import simple_plotly\n",
    "from pandapower.plotting.plotly import vlevel_plotly\n",
    "from pandapower.plotting.plotly import pf_res_plotly\n",
    "\n",
    "from pandapower.timeseries import DFData\n",
    "from pandapower.timeseries import OutputWriter\n",
    "from pandapower.timeseries.run_time_series import run_timeseries\n",
    "from pandapower.control import ConstControl"
   ]
  },
  {
   "cell_type": "code",
   "execution_count": null,
   "metadata": {},
   "outputs": [],
   "source": [
    "net = pp.networks.mv_oberrhein()\n",
    "net1, net2 = pp.networks.mv_oberrhein(separation_by_sub=True)"
   ]
  },
  {
   "cell_type": "code",
   "execution_count": null,
   "metadata": {},
   "outputs": [],
   "source": [
    "net = net1"
   ]
  },
  {
   "cell_type": "code",
   "execution_count": null,
   "metadata": {},
   "outputs": [],
   "source": [
    "# a = [int(i.split(' ')[-1]) for i in net.bus['name']]\n",
    "bus_indices = net.bus.index\n",
    "\n",
    "c = {}\n",
    "l = 0 \n",
    "s = 0\n",
    "for i in bus_indices:\n",
    "\tc[i] = [0,0]\n",
    "\tif(i in list(net.load['bus'])):\n",
    "\t\tc[i][0]+=1\n",
    "\t\tl+=1\n",
    "\tif(i in list(net.sgen['bus'])):\n",
    "\t\tc[i][1]+=1\n",
    "\t\ts+=1\n",
    "print('{bus index, [load,gen]}')\n",
    "print(c)\n",
    "\n",
    "l = [[],[],[],[]]\n",
    "for k,v in c.items():\n",
    "\tif(v[0]==0 and v[1]==0): #nothing\n",
    "\t\tl[0].append(k) \n",
    "\tif(v[0]>0 and v[1]==0): #only load\n",
    "\t\tl[1].append(k)\n",
    "\tif(v[0]==0 and v[1]>0): #only sgen\n",
    "\t\tl[2].append(k)\n",
    "\tif(v[0]>0 and v[1]>0): #both\n",
    "\t\tl[3].append(k)\n",
    "print('\\nNothing: ', l[0])\n",
    "print('Only load: ', l[1])\n",
    "print('Only sgen: ', l[2])\n",
    "print('Both: ', l[3])\n",
    "print(f'Ratio: Nothing/all: {( len(l[0])/( len(l[0])+len(l[1])+len(l[2])+len(l[3]) ) ):.3f}')"
   ]
  },
  {
   "cell_type": "code",
   "execution_count": null,
   "metadata": {},
   "outputs": [],
   "source": [
    "# a = [int(i.split(' ')[-1]) for i in net.bus['name']]\n",
    "bus_indices = net.bus.index\n",
    "\n",
    "c = []\n",
    "nc = []\n",
    "l = 0\n",
    "for i in net.load.to_numpy():\n",
    "\tif(i[1] in bus_indices):\n",
    "\t\tc.append(i[1])\n",
    "\t\tl+=1\n",
    "\telse:\n",
    "\t\tnc.append(i[1])\n",
    "print(f'Loads connected to something: {c}')\n",
    "print(f'Loads connected to nothing: {nc}')\n",
    "\n",
    "print(f'\\nLoads-> total: {len(net.load)}, connected to some bus: {l} (ratio: {(l/len(net.load)):.3f})')"
   ]
  },
  {
   "cell_type": "code",
   "execution_count": null,
   "metadata": {},
   "outputs": [],
   "source": [
    "# a = [int(i.split(' ')[-1]) for i in net.bus['name']]\n",
    "bus_indices = net.bus.index\n",
    "\n",
    "c = []\n",
    "nc = []\n",
    "l = 0\n",
    "for i in net.sgen.to_numpy():\n",
    "\tif(i[1] in bus_indices):\n",
    "\t\tc.append(i[1])\n",
    "\t\tl+=1\n",
    "\telse:\n",
    "\t\tnc.append(i[1])\n",
    "print(f'Sgens connected to something: {c}')\n",
    "print(f'Sgens connected to nothing: {nc}')\n",
    "\n",
    "print(f'\\nSgens-> total: {len(net.sgen)}, connected to some bus: {l} (ratio: {(l/len(net.sgen)):.3f})')"
   ]
  },
  {
   "cell_type": "code",
   "execution_count": null,
   "metadata": {},
   "outputs": [],
   "source": [
    "print(net.load[net.load['scaling'] == 0].count())\n",
    "print(net.sgen[net.sgen['scaling'] == 0].count()) #All sgen scaling value set to 0!!!! I was wandering why changing sgens time series didn't bring to different resutls -.-"
   ]
  },
  {
   "cell_type": "code",
   "execution_count": null,
   "metadata": {},
   "outputs": [],
   "source": [
    "#All the scaling values are 0.6\n",
    "net.load['scaling'] = 0.6\n",
    "net.sgen['scaling'] = 0.6\n",
    "#Can be changed also in the Controllers"
   ]
  },
  {
   "cell_type": "code",
   "execution_count": null,
   "metadata": {},
   "outputs": [],
   "source": [
    "def num_foreach_element(arr):\n",
    "\td = {}\n",
    "\tfor i in arr.to_numpy():\n",
    "\t\ti = i[0]\n",
    "\t\td[i] = d[i]+1 if i in d.keys() else 1\n",
    "\treturn d"
   ]
  },
  {
   "cell_type": "code",
   "execution_count": null,
   "metadata": {},
   "outputs": [],
   "source": [
    "input_dir = './TimeSeries/1-MVLV-rural-all-0-sw/'\n",
    "n_timesteps = 4 * 24 * 365\n",
    "\n",
    "#Loads dataset\n",
    "profile_load = pd.DataFrame()\n",
    "n_load = len(net.load)\n",
    "n_res = len(net.sgen)\n",
    "# The parameter “sR” generally describes the nominal apparent power of power plants, distributed energy resources and loads\n",
    "loads = pd.read_csv(f'{input_dir}Load.csv', sep=';')\n",
    "loads_timeseries = pd.read_csv(f'{input_dir}LoadProfile.csv', sep=';')\n",
    "\n",
    "RESs = pd.read_csv(f'{input_dir}RES.csv', sep=';')\n",
    "RESs_timeseries = pd.read_csv(f'{input_dir}RESProfile.csv', sep=';')\n",
    "\n",
    "#Cases:\n",
    "# 0: low load, high generation\n",
    "# 1: normal load and generation\n",
    "# 2: high load, low generation\n",
    "case = 2\n",
    "if(case==0):\n",
    "\tscale_factor_load = 0.2\n",
    "\tscale_factor_sgen = 2\n",
    "elif(case==1):\n",
    "\tscale_factor_load = 1\n",
    "\tscale_factor_sgen = 1\n",
    "elif(case==2):\n",
    "\tscale_factor_load = 0.8/0.6\n",
    "\tscale_factor_sgen = 0.2\n",
    "print(f'Case: {case}, scale load: {scale_factor_load}, scale sgen: {scale_factor_sgen}')\n",
    "'''\n",
    "# Papers:\n",
    "# -SimBench—A Benchmark Dataset of Electric Power Systems to Compare Innovative Solutions Based on Power Flow Analysis\n",
    "# -https://publica.fraunhofer.de/eprints/urn_nbn_de_0011-n-5554297.pdf\n",
    "Germany standard load profiles(SLPs): Commercial enterprises (G), households (H), agricultural holdings (L) and industrial companies\n",
    "(BL/BW) were considered as accumulated consumers, while the provided time series for electric\n",
    "vehicles (EVs) and heat pumps (HPs) were interpreted as individual consumers.\n",
    "Ending letter: A-C low consumption, M medium, H high\n",
    "#print(set(loads_timeseries.columns)) \n",
    "'''\n",
    "loads_type = loads.loc[:n_load-1,['profile']] #loc ranges is [0,n], not [0,n[. Find a better/more uniform way to select the loads\n",
    "temp_profile_p = []\n",
    "temp_profile_q = []\n",
    "print(f'Load elements by type: {num_foreach_element(loads_type)}')\n",
    "for l in loads_type.to_numpy():\n",
    "\ttemp_profile_p.append(loads_timeseries[f'{l[0]}_pload'])\n",
    "\ttemp_profile_q.append(loads_timeseries[f'{l[0]}_qload'])\n",
    "\n",
    "#Loads p (in MW) \n",
    "profile_load_p = pd.concat(temp_profile_p,axis=1)[:n_timesteps]\n",
    "profile_load_p.columns = net.load.index\n",
    "\n",
    "ds_lp = DFData(profile_load_p)\n",
    "cc_lp = ConstControl(net, 'load', 'p_mw', element_index=net.load.index, profile_name=profile_load_p.columns,\n",
    "\t\t\t\t\tdata_source=ds_lp, scale_factor=scale_factor_load)\n",
    "\n",
    "#Loads q (in MVar)\n",
    "profile_load_q = pd.concat(temp_profile_q,axis=1)[:n_timesteps]\n",
    "profile_load_q.columns = net.load.index\n",
    "ds_lq = DFData(profile_load_q)\n",
    "cc_lq = ConstControl(net, 'load', 'q_mvar', element_index=net.load.index, profile_name=profile_load_q.columns,\n",
    "\t\t\t\t\tdata_source=ds_lq, scale_factor=scale_factor_load)\n",
    "\n",
    "#RES p (in MW)\n",
    "res_to_add = pd.DataFrame(['WP4','WP7','WP4','WP7','WP4','WP7'], columns=['profile'])\n",
    "RESs_type = RESs.loc[:n_res-1-len(res_to_add),['profile']]\n",
    "RESs_type = pd.concat([RESs_type, res_to_add])\n",
    "temp_profile_p = []\n",
    "print(f'RES elements by type: {num_foreach_element(RESs_type)}')\n",
    "for l in RESs_type.to_numpy():\n",
    "\ttemp_profile_p.append(RESs_timeseries[f'{l[0]}'])\n",
    "\t# temp_profile_p.append(RESs_timeseries[f'{l[0]}_pload']) #Q values are not required\n",
    "\n",
    "profile_res_p = pd.concat(temp_profile_p,axis=1)[:n_timesteps]\n",
    "profile_res_p.columns = net.sgen.index\n",
    "ds_sp = DFData(profile_res_p)\n",
    "cc_sp = ConstControl(net, 'sgen', 'p_mw', element_index=net.sgen.index, profile_name=profile_res_p.columns,\n",
    "\t\t\t\t\tdata_source=ds_sp, scale_factor=scale_factor_sgen)"
   ]
  },
  {
   "cell_type": "code",
   "execution_count": null,
   "metadata": {},
   "outputs": [],
   "source": [
    "figsize=(20, 3)\n",
    "fig = plt.figure(figsize=figsize)\n",
    "(cc_lp.data_source.df*cc_lp.scale_factor).sum(axis=1).plot(label='load p',ylabel='mw')\n",
    "# (cc_lq.data_source.df*cc_lq.scale_factor).sum(axis=1).plot(label='load q',ylabel='mw')\n",
    "(cc_sp.data_source.df*cc_sp.scale_factor).sum(axis=1).plot(label='sgen')\n",
    "# profile_res_p.loc[:,['PV5', 'PV8', 'PV6']].sum(axis=1).plot(label='sgen PV')\n",
    "# profile_res_p.loc[:,['WP4','WP7']].sum(axis=1).plot(label='sgen WP')\n",
    "plt.legend()\n",
    "plt.show()"
   ]
  },
  {
   "cell_type": "code",
   "execution_count": null,
   "metadata": {},
   "outputs": [],
   "source": [
    "df = profile_res_p\n",
    "df =  df.loc[:,~df.columns.duplicated()]\n",
    "df.boxplot(rot=45,figsize=figsize)\n",
    "plt.ylabel('mw (?)')"
   ]
  },
  {
   "cell_type": "code",
   "execution_count": null,
   "metadata": {},
   "outputs": [],
   "source": [
    "time_steps = range(0,n_timesteps)\n",
    "\n",
    "output_dir = os.path.join(input_dir,'Results')\n",
    "ow = OutputWriter(net, time_steps, output_path=output_dir, output_file_type=\".xlsx\", log_variables=list())\n",
    "\n",
    "#Save time series (output)\n",
    "# these variables are saved to the harddisk after / during the time series loop\n",
    "ow.log_variable('res_load', 'p_mw')\n",
    "ow.log_variable('res_bus', 'vm_pu')\n",
    "ow.log_variable('res_line', 'loading_percent')\n",
    "ow.log_variable('res_line', 'i_ka')\n",
    "#Add net.res_trafo['loading_percent']\n",
    "\n",
    "print('Time steps: ',len(time_steps), '. Num Loads: ', net.load.index.shape, '. Load p and q: ', profile_load_p.shape, profile_load_q.shape, '. Num RESs: ', net.sgen.index.shape, '. RESs p: ',profile_res_p.shape)\n",
    "t1 = time.time()\n",
    "run_timeseries(net,time_steps)\n",
    "t2 = time.time()\n",
    "print(f'Simulation time : {(t2-t1):.2f} s')\n",
    "\n",
    "#Save time series (input)\n",
    "path = os.path.join(output_dir, \"loads_p.xlsx\")\n",
    "profile_load_p.to_excel(path)\n",
    "path = os.path.join(output_dir, \"loads_q.xlsx\")\n",
    "profile_load_q.to_excel(path)\n",
    "path = os.path.join(output_dir, \"RESs_p.xlsx\")\n",
    "profile_res_p.to_excel(path)\n",
    "t3 = time.time()\n",
    "print(f'Saving files time: {(t3-t2):.2f} s')"
   ]
  },
  {
   "cell_type": "code",
   "execution_count": null,
   "metadata": {},
   "outputs": [],
   "source": [
    "def plot_df(df,title='',y_axis='',file_name=''):\n",
    "\tfig = px.line(df,x=time_steps, y=df.columns, width=800, height=400)\n",
    "\tfig.update_layout(title=title,\n",
    "\t\t\t\t\txaxis_title='time steps',\n",
    "\t\t\t\t\tyaxis_title=y_axis)\n",
    "\tif(file_name):\n",
    "\t\tfig.write_html(file_name)\n",
    "\t\tprint(f'Saved {title} in {file_name}')\n",
    "\n",
    "# voltage results\n",
    "vm_pu_file = os.path.join(output_dir, \"res_bus\", \"vm_pu.xlsx\")\n",
    "vm_pu = pd.read_excel(vm_pu_file, index_col=0)\n",
    "plot_df(vm_pu,'buses voltage magnitude', 'bus vm [pu]', os.path.join(output_dir, \"Plots\", \"bus vm.html\"))\n",
    "\n",
    "# # line loading results\n",
    "ll_file = os.path.join(output_dir, \"res_line\", \"loading_percent.xlsx\")\n",
    "line_loading = pd.read_excel(ll_file, index_col=0)\n",
    "plot_df(line_loading,'line_loading', 'line_loading [%]', os.path.join(output_dir, \"Plots\", \"line load.html\"))\n",
    "\n",
    "# # load results\n",
    "load_file = os.path.join(output_dir, \"res_load\", \"p_mw.xlsx\")\n",
    "load = pd.read_excel(load_file, index_col=0)\n",
    "plot_df(load,'load active power', 'p [MW]', os.path.join(output_dir, \"Plots\", \"load.html\"))"
   ]
  },
  {
   "cell_type": "code",
   "execution_count": null,
   "metadata": {},
   "outputs": [],
   "source": [
    "#Plot network and loadings\n",
    "\n",
    "bus = 58\n",
    "fig = simple_plotly(net, bus_size=5, ext_grid_size=10)\n",
    "fig.add_trace(px.scatter(x=[net.bus_geodata.loc[bus, 'x']], y=[net.bus_geodata.loc[bus, 'y']],color=['r'],size=[10]).data[0])\n",
    "# _ = vlevel_plotly(net, bus_size=5, ext_grid_size=10)\n",
    "# fig = pf_res_plotly(net, bus_size=8)\n",
    "# fig.write_html(f\"images/MVOberrhein/Half2.html\")\n",
    "# fig.write_image(f\"images/MVOberrhein/Half2.png\")"
   ]
  },
  {
   "cell_type": "code",
   "execution_count": null,
   "metadata": {},
   "outputs": [],
   "source": [
    "print(vm_pu[58]) #constant voltage?\n",
    "print(net.bus.loc[95])\n",
    "print(net.load[net.load['bus']==58]) #no load in bus 58"
   ]
  },
  {
   "cell_type": "code",
   "execution_count": null,
   "metadata": {},
   "outputs": [],
   "source": [
    "# vm_pu.plot(label=\"vm_pu\", figsize=figsize)"
   ]
  },
  {
   "cell_type": "code",
   "execution_count": null,
   "metadata": {},
   "outputs": [],
   "source": []
  }
 ],
 "metadata": {
  "interpreter": {
   "hash": "f6db62ce4cc779aef3fde0259946866918c32f10b83e429e7a4b776ccea2a2a7"
  },
  "kernelspec": {
   "display_name": "Python 3.7.11 ('gyn_anm')",
   "language": "python",
   "name": "python3"
  },
  "language_info": {
   "codemirror_mode": {
    "name": "ipython",
    "version": 3
   },
   "file_extension": ".py",
   "mimetype": "text/x-python",
   "name": "python",
   "nbconvert_exporter": "python",
   "pygments_lexer": "ipython3",
   "version": "3.7.11"
  },
  "orig_nbformat": 4
 },
 "nbformat": 4,
 "nbformat_minor": 2
}
