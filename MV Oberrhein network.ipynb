{
 "cells": [
  {
   "cell_type": "code",
   "execution_count": null,
   "metadata": {},
   "outputs": [],
   "source": [
    "import pandapower as pp\n",
    "import pandapower.networks\n",
    "import pandas as pd\n",
    "import numpy as np\n",
    "import tensorflow as tf\n",
    "import os \n",
    "\n",
    "import matplotlib.pyplot as plt\n",
    "%matplotlib inline\n",
    "\n",
    "from pandapower.timeseries import DFData\n",
    "from pandapower.timeseries import OutputWriter\n",
    "from pandapower.timeseries.run_time_series import run_timeseries\n",
    "from pandapower.control import ConstControl"
   ]
  },
  {
   "cell_type": "code",
   "execution_count": null,
   "metadata": {},
   "outputs": [],
   "source": [
    "net = pp.networks.mv_oberrhein()\n",
    "net1, net2 = pp.networks.mv_oberrhein(separation_by_sub=True)"
   ]
  },
  {
   "cell_type": "code",
   "execution_count": null,
   "metadata": {},
   "outputs": [],
   "source": [
    "net = net1"
   ]
  },
  {
   "cell_type": "code",
   "execution_count": null,
   "metadata": {},
   "outputs": [],
   "source": [
    "#Plot network and loadings\n",
    "from pandapower.plotting.plotly import simple_plotly\n",
    "from pandapower.plotting.plotly import vlevel_plotly\n",
    "from pandapower.plotting.plotly import pf_res_plotly\n",
    "\n",
    "# fig = simple_plotly(net2, bus_size=5, ext_grid_size=10)\n",
    "# _ = vlevel_plotly(net, bus_size=5, ext_grid_size=10)\n",
    "# fig = pf_res_plotly(net, bus_size=5, ext_grid_size=10)\n",
    "# fig.write_html(f\"images/MVOberrhein/Half2.html\")\n",
    "# fig.write_image(f\"images/MVOberrhein/Half2.png\")"
   ]
  },
  {
   "cell_type": "code",
   "execution_count": null,
   "metadata": {},
   "outputs": [],
   "source": [
    "def num_foreach_element(arr):\n",
    "\td = {}\n",
    "\tfor i in arr.to_numpy():\n",
    "\t\ti = i[0]\n",
    "\t\tif(i in d.keys()):\n",
    "\t\t\td[i]+=1\n",
    "\t\telse:\n",
    "\t\t\td[i] = 1\n",
    "\treturn d"
   ]
  },
  {
   "cell_type": "code",
   "execution_count": null,
   "metadata": {},
   "outputs": [],
   "source": [
    "input_dir = './TimeSeries/1-MVLV-rural-all-0-sw/'\n",
    "n_timesteps = 4 * 24 * 365\n",
    "\n",
    "#Loads dataset\n",
    "profile_load = pd.DataFrame()\n",
    "n_load = len(net.load)\n",
    "n_res = len(net.sgen)\n",
    "# The parameter “sR” generally describes the nominal apparent power of power plants, distributed energy resources and loads\n",
    "loads = pd.read_csv(f'{input_dir}Load.csv', sep=';')\n",
    "loads_timeseries = pd.read_csv(f'{input_dir}LoadProfile.csv', sep=';')\n",
    "\n",
    "RESs = pd.read_csv(f'{input_dir}RES.csv', sep=';')\n",
    "RESs_timeseries = pd.read_csv(f'{input_dir}RESProfile.csv', sep=';')\n",
    "'''\n",
    "# Papers:\n",
    "# -SimBench—A Benchmark Dataset of Electric Power Systems to Compare Innovative Solutions Based on Power Flow Analysis\n",
    "# -https://publica.fraunhofer.de/eprints/urn_nbn_de_0011-n-5554297.pdf\n",
    "Commercial enterprises (G), households (H), agricultural holdings (L) and industrial companies\n",
    "(BL/BW) were considered as accumulated consumers, while the provided time series for electric\n",
    "vehicles (EVs) and heat pumps (HPs) were interpreted as individual consumers.\n",
    "#print(set(loads_timeseries.columns)) \n",
    "'''\n",
    "loads_type = loads.loc[:n_load-1,['profile']] #loc ranges is [0,n], not [0,n[. Find a better/more uniform way to select the loads\n",
    "temp_profile_p = []\n",
    "temp_profile_q = []\n",
    "print(f'Load elements by type: {num_foreach_element(loads_type)}')\n",
    "for l in loads_type.to_numpy():\n",
    "\ttemp_profile_p.append(loads_timeseries[f'{l[0]}_pload'])\n",
    "\ttemp_profile_q.append(loads_timeseries[f'{l[0]}_qload'])\n",
    "\n",
    "#Loads p (in MW) \n",
    "profile_load_p = pd.concat(temp_profile_p,axis=1)[:n_timesteps]\n",
    "profile_load_p.columns = range(0,n_load)\n",
    "ds = DFData(profile_load_p)\n",
    "cc = ConstControl(net, 'load', 'p_mw', element_index=net.load.index, profile_name=profile_load_p.columns, data_source=ds, drop_same_existing_ctrl=True)\n",
    "\n",
    "#Loads q (in MVar)\n",
    "profile_load_q = pd.concat(temp_profile_p,axis=1)[:n_timesteps]\n",
    "profile_load_q.columns = range(0,n_load)\n",
    "ds = DFData(profile_load_q)\n",
    "cc = ConstControl(net, 'load', 'q_mvar', element_index=net.load.index, profile_name=profile_load_q.columns, data_source=ds, drop_same_existing_ctrl=True)\n",
    "\n",
    "#RES p (in MW)\n",
    "res_to_add = pd.DataFrame(['WP4','WP7','WP4','WP7','WP4','WP7'], columns=['profile'])\n",
    "RESs_type = RESs.loc[:n_res-1-len(res_to_add),['profile']]\n",
    "RESs_type = pd.concat([RESs_type, res_to_add])\n",
    "temp_profile_p = []\n",
    "print(f'RES elements by type: {num_foreach_element(RESs_type)}')\n",
    "for l in RESs_type.to_numpy():\n",
    "\ttemp_profile_p.append(RESs_timeseries[f'{l[0]}'])\n",
    "\t# temp_profile_p.append(RESs_timeseries[f'{l[0]}_pload']) #Q values are not required\n",
    "\n",
    "#RESs p\n",
    "profile_res_p = pd.concat(temp_profile_p,axis=1)[:n_timesteps]\n",
    "profile_res_p.columns = range(0,n_res)\n",
    "ds = DFData(profile_res_p)\n",
    "cc = ConstControl(net, 'sgen', 'p_mw', element_index=net.sgen.index, profile_name=profile_res_p.columns, data_source=ds, drop_same_existing_ctrl=True)"
   ]
  },
  {
   "cell_type": "code",
   "execution_count": null,
   "metadata": {},
   "outputs": [],
   "source": [
    "time_steps = range(0,n_timesteps)\n",
    "\n",
    "output_dir = os.path.join(input_dir,'Results')\n",
    "ow = OutputWriter(net, time_steps, output_path=output_dir, output_file_type=\".xlsx\", log_variables=list())\n",
    "\n",
    "#Save time series (output)\n",
    "# these variables are saved to the harddisk after / during the time series loop\n",
    "ow.log_variable('res_load', 'p_mw')\n",
    "ow.log_variable('res_bus', 'vm_pu')\n",
    "ow.log_variable('res_line', 'loading_percent')\n",
    "ow.log_variable('res_line', 'i_ka')\n",
    "#Add net.res_trafo['loading_percent']\n",
    "\n",
    "print('Time steps: ',len(time_steps), '. Num Loads: ', net.load.index.shape, '. Load p and q: ', profile_load_p.shape, profile_load_q.shape, '. Num RESs: ', net.sgen.index.shape, '. RESs p: ',profile_res_p.shape)\n",
    "run_timeseries(net,time_steps)\n",
    "\n",
    "#Save time series (input)\n",
    "path = os.path.join(output_dir, \"loads_p.xlsx\")\n",
    "profile_load_p.to_excel(path)\n",
    "path = os.path.join(output_dir, \"loads_q.xlsx\")\n",
    "profile_load_q.to_excel(path)\n",
    "path = os.path.join(output_dir, \"RESs_p.xlsx\")\n",
    "profile_res_p.to_excel(path)"
   ]
  },
  {
   "cell_type": "code",
   "execution_count": null,
   "metadata": {},
   "outputs": [],
   "source": []
  }
 ],
 "metadata": {
  "interpreter": {
   "hash": "f6db62ce4cc779aef3fde0259946866918c32f10b83e429e7a4b776ccea2a2a7"
  },
  "kernelspec": {
   "display_name": "Python 3.7.11 ('gyn_anm')",
   "language": "python",
   "name": "python3"
  },
  "language_info": {
   "codemirror_mode": {
    "name": "ipython",
    "version": 3
   },
   "file_extension": ".py",
   "mimetype": "text/x-python",
   "name": "python",
   "nbconvert_exporter": "python",
   "pygments_lexer": "ipython3",
   "version": "3.7.11"
  },
  "orig_nbformat": 4
 },
 "nbformat": 4,
 "nbformat_minor": 2
}
